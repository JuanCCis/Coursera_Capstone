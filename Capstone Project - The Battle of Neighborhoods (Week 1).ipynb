{
 "cells": [
  {
   "cell_type": "markdown",
   "metadata": {},
   "source": [
    "---\n",
    "\n",
    "# **Capstone Project - The Battle of Neighborhoods (Week 1)**\n",
    "\n",
    "---"
   ]
  },
  {
   "cell_type": "markdown",
   "metadata": {},
   "source": [
    "Capstone Project for the IBM Data Science Professional Certificate\n",
    "\n",
    "----"
   ]
  },
  {
   "cell_type": "markdown",
   "metadata": {},
   "source": [
    "## 1. Introduction (Business Problem)"
   ]
  },
  {
   "cell_type": "markdown",
   "metadata": {},
   "source": [
    "In the current Covid-19 situation the world is facing, there is a lot of uncertainty in many markets. While people expect difficult times for some industries, others are more capable to reinstate their pace (such as the technology giants in the United States). Our client is a big player in the rental housing market in the United States. With interest rates going lower and lower, investing in this market seems attractive. \n",
    "\n",
    "According to a recent report, rent prices in the U.S have kept a rising trend since 2013 (Collins, 2020). \n",
    "\n",
    "![alt text](https://github.com/JuanCCis/Coursera_Capstone/raw/master/Graph1.JPG)\n",
    "\n",
    "What is more interesting is that this growth has been mainly driven by high-income renters (Collins, 2020). As shown in the graph below, from 2010 to 2018, 3.2 million new high-income individuals and households have become renters. That is precisely why our client's business strategy is oriented towards the high-income market. It already holds some properties, mainly in California.\n",
    "\n",
    "![alt text](https://github.com/JuanCCis/Coursera_Capstone/raw/master/Graph2.JPG)\n",
    "\n",
    "\n",
    "The most demanded metropolitan areas in the U.S rental housing market are New York, Los Angeles and San Francisco (Collins, 2020). These three top cities have amassed around $112 billion USD from 2005 to 2019. \n",
    "\n",
    "\n",
    "![alt text](https://github.com/JuanCCis/Coursera_Capstone/raw/master/Graph3.JPG)\n",
    "\n",
    "\n",
    "Despite the considerable amount of rent the Californian cities have managed to generate, prices have remained stagnant in San Francisco and decreasing in Los Angeles (Collins, 2020). The general rising trend keeps ocurring in big rental housing markets such as New York or Washington. Our client is currently planning to sell some of the properties that they own in these two cities, and invest in some rising-trend markets such as the Big Apple. They are certain that they will be able to find some high-income individuals that are currently planning to leave the Golden State. \n",
    "\n",
    "\n",
    "![alt text](https://github.com/JuanCCis/Coursera_Capstone/raw/master/Graph4.JPG)\n",
    "\n",
    "\n",
    "Our client has requested some insights from the upscale rental housing markets. First, they want to know what are the 100 neighborhoods or areas with the highest rent prices in the United States. Second, they want to know what type of venues are common to these areas. These venues may be highly valued by potential clients and they might expect that their new neighborhood features these as well. Finally, they want clusters of these areas so that they can identify what properties to offer to the  high-income renters in California that are planning to move.\n",
    "\n",
    "\n",
    "\n"
   ]
  },
  {
   "cell_type": "markdown",
   "metadata": {},
   "source": [
    "## 2. Data"
   ]
  },
  {
   "cell_type": "markdown",
   "metadata": {},
   "source": [
    "The insights required by the client will be obtained from two datasources: Zillow and Foursquare. \n",
    "\n",
    "Zillow is an online real estate database that has information of the U.S rental housing market. Starting on 2012, Zillow constantly publishes the Zillow Rent Index (ZRI). The ZRI is a US Dollar valued index that tries to estimate the market rate rent across a given region/area. This database is avaible to download at https://www.zillow.com/research/data/. A simple peak of this database (shown below) is enough to see that it has enough data to figure out the top 100 neighborhoods we are going to be working with (they appear in the RegionName column). \n",
    "\n",
    "Foursquare is a U.S-based company that participates in the location technology and information industry. Using the Foursquare API, a developer can access user-uploaded information such as venues near a specific location, trending venues near a specific location and information on those venues such as their category, their score and the users' comments. \n",
    "\n",
    "Using the Geocoder library in Python, it is feasible to find the exact latitudes and longitudes of the areas listed in the ZRI table from ArcGIS. With the latitude-longitude information from each area/neighborhood, calls to the Foursquare API will be made to obtain information about the venues around those locations."
   ]
  },
  {
   "cell_type": "code",
   "execution_count": 2,
   "metadata": {},
   "outputs": [
    {
     "data": {
      "text/html": [
       "<div>\n",
       "<style scoped>\n",
       "    .dataframe tbody tr th:only-of-type {\n",
       "        vertical-align: middle;\n",
       "    }\n",
       "\n",
       "    .dataframe tbody tr th {\n",
       "        vertical-align: top;\n",
       "    }\n",
       "\n",
       "    .dataframe thead th {\n",
       "        text-align: right;\n",
       "    }\n",
       "</style>\n",
       "<table border=\"1\" class=\"dataframe\">\n",
       "  <thead>\n",
       "    <tr style=\"text-align: right;\">\n",
       "      <th></th>\n",
       "      <th>RegionName</th>\n",
       "      <th>State</th>\n",
       "      <th>Metro</th>\n",
       "      <th>County</th>\n",
       "      <th>City</th>\n",
       "      <th>Zri</th>\n",
       "    </tr>\n",
       "  </thead>\n",
       "  <tbody>\n",
       "    <tr>\n",
       "      <th>0</th>\n",
       "      <td>Northwest Harbor</td>\n",
       "      <td>NY</td>\n",
       "      <td>New York-Newark-Jersey City</td>\n",
       "      <td>Suffolk County</td>\n",
       "      <td>East Hampton</td>\n",
       "      <td>25372</td>\n",
       "    </tr>\n",
       "    <tr>\n",
       "      <th>1</th>\n",
       "      <td>Central Menlo Park</td>\n",
       "      <td>CA</td>\n",
       "      <td>San Francisco-Oakland-Hayward</td>\n",
       "      <td>San Mateo County</td>\n",
       "      <td>Menlo Park</td>\n",
       "      <td>9206</td>\n",
       "    </tr>\n",
       "    <tr>\n",
       "      <th>2</th>\n",
       "      <td>Presidio Heights</td>\n",
       "      <td>CA</td>\n",
       "      <td>San Francisco-Oakland-Hayward</td>\n",
       "      <td>San Francisco County</td>\n",
       "      <td>San Francisco</td>\n",
       "      <td>5721</td>\n",
       "    </tr>\n",
       "    <tr>\n",
       "      <th>3</th>\n",
       "      <td>East Village</td>\n",
       "      <td>CA</td>\n",
       "      <td>Los Angeles-Long Beach-Anaheim</td>\n",
       "      <td>Los Angeles County</td>\n",
       "      <td>San Marino</td>\n",
       "      <td>5692</td>\n",
       "    </tr>\n",
       "    <tr>\n",
       "      <th>4</th>\n",
       "      <td>North of Montana</td>\n",
       "      <td>CA</td>\n",
       "      <td>Los Angeles-Long Beach-Anaheim</td>\n",
       "      <td>Los Angeles County</td>\n",
       "      <td>Santa Monica</td>\n",
       "      <td>5623</td>\n",
       "    </tr>\n",
       "  </tbody>\n",
       "</table>\n",
       "</div>"
      ],
      "text/plain": [
       "           RegionName State                           Metro  \\\n",
       "0    Northwest Harbor    NY     New York-Newark-Jersey City   \n",
       "1  Central Menlo Park    CA   San Francisco-Oakland-Hayward   \n",
       "2    Presidio Heights    CA   San Francisco-Oakland-Hayward   \n",
       "3        East Village    CA  Los Angeles-Long Beach-Anaheim   \n",
       "4    North of Montana    CA  Los Angeles-Long Beach-Anaheim   \n",
       "\n",
       "                 County           City    Zri  \n",
       "0        Suffolk County   East Hampton  25372  \n",
       "1      San Mateo County     Menlo Park   9206  \n",
       "2  San Francisco County  San Francisco   5721  \n",
       "3    Los Angeles County     San Marino   5692  \n",
       "4    Los Angeles County   Santa Monica   5623  "
      ]
     },
     "execution_count": 2,
     "metadata": {},
     "output_type": "execute_result"
    }
   ],
   "source": [
    "import pandas as pd\n",
    "df = pd.read_excel('https://github.com/JuanCCis/Coursera_Capstone/raw/master/ZRI.xlsx')\n",
    "df.head()"
   ]
  },
  {
   "cell_type": "markdown",
   "metadata": {},
   "source": [
    "## 3. References"
   ]
  },
  {
   "cell_type": "markdown",
   "metadata": {},
   "source": [
    "Collins, G. (03/21/2020). The US Rental Property Investment Market 2020. https://managecasa.com/es/articles/us-rental-property-market/\n",
    "\n",
    "Zillow Rent Index. (2020). https://www.zillow.com/research/data/"
   ]
  }
 ],
 "metadata": {
  "kernelspec": {
   "display_name": "Python 3",
   "language": "python",
   "name": "python3"
  },
  "language_info": {
   "codemirror_mode": {
    "name": "ipython",
    "version": 3
   },
   "file_extension": ".py",
   "mimetype": "text/x-python",
   "name": "python",
   "nbconvert_exporter": "python",
   "pygments_lexer": "ipython3",
   "version": "3.7.3"
  }
 },
 "nbformat": 4,
 "nbformat_minor": 2
}
